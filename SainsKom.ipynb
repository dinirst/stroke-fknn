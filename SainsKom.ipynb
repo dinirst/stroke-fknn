{
  "cells": [
    {
      "cell_type": "markdown",
      "metadata": {
        "id": "view-in-github",
        "colab_type": "text"
      },
      "source": [
        "<a href=\"https://colab.research.google.com/github/dinirst/stroke-fknn-ga/blob/main/SainsKom.ipynb\" target=\"_parent\"><img src=\"https://colab.research.google.com/assets/colab-badge.svg\" alt=\"Open In Colab\"/></a>"
      ]
    },
    {
      "cell_type": "markdown",
      "metadata": {
        "id": "khUIOgKZq2xH"
      },
      "source": [
        "# data preparation"
      ]
    },
    {
      "cell_type": "code",
      "execution_count": null,
      "metadata": {
        "colab": {
          "base_uri": "https://localhost:8080/"
        },
        "id": "ei6xe2P9q0-D",
        "outputId": "70e37259-00c9-4739-de4b-be5773d4141d"
      },
      "outputs": [
        {
          "name": "stdout",
          "output_type": "stream",
          "text": [
            "Mounted at /content/drive\n"
          ]
        }
      ],
      "source": [
        "from google.colab import drive\n",
        "drive.mount('/content/drive')"
      ]
    },
    {
      "cell_type": "code",
      "execution_count": null,
      "metadata": {
        "id": "qGEAHuqurR8X"
      },
      "outputs": [],
      "source": [
        "import pprint\n",
        "import operator\n",
        "\n",
        "import numpy as np\n",
        "import pandas as pd\n",
        "import matplotlib.pyplot as plt\n",
        "import sklearn.metrics as metrics\n",
        "\n",
        "from sklearn.model_selection import train_test_split, cross_val_score\n",
        "from sklearn.metrics import accuracy_score\n",
        "from sklearn.neighbors import KNeighborsClassifier\n",
        "from sklearn.base import BaseEstimator, ClassifierMixin\n",
        "from sklearn import preprocessing"
      ]
    },
    {
      "cell_type": "code",
      "execution_count": null,
      "metadata": {
        "colab": {
          "base_uri": "https://localhost:8080/"
        },
        "id": "jg_3MrpnrfHW",
        "outputId": "3d68c781-1b8c-4ee8-c6e1-7690afe6f454"
      },
      "outputs": [
        {
          "name": "stdout",
          "output_type": "stream",
          "text": [
            "   gender   age  hypertension  heart_disease  ever_married  work_type  \\\n",
            "0       1  67.0             0              1             1          0   \n",
            "1       1  80.0             0              1             1          0   \n",
            "2       0  49.0             0              0             1          0   \n",
            "3       0  79.0             1              0             1          1   \n",
            "4       1  81.0             0              0             1          0   \n",
            "\n",
            "   Residence_type  avg_glucose_level   bmi  smoking_status  stroke  \n",
            "0               1             228.69  36.6               2       1  \n",
            "1               0             105.92  32.5               1       1  \n",
            "2               1             171.23  34.4               3       1  \n",
            "3               0             174.12  24.0               1       1  \n",
            "4               1             186.21  29.0               2       1  \n"
          ]
        }
      ],
      "source": [
        "data = pd.read_excel('/content/drive/My Drive/Siscer/stroke.xlsx')\n",
        "print(data.head())"
      ]
    },
    {
      "cell_type": "markdown",
      "metadata": {
        "id": "bFD_uXL0wrkv"
      },
      "source": [
        "**EDA**"
      ]
    },
    {
      "cell_type": "code",
      "execution_count": null,
      "metadata": {
        "colab": {
          "base_uri": "https://localhost:8080/"
        },
        "id": "8WS0TJKLv_fv",
        "outputId": "325662d5-48be-41b5-e8a3-50df6b88c80c"
      },
      "outputs": [
        {
          "name": "stdout",
          "output_type": "stream",
          "text": [
            "<class 'pandas.core.frame.DataFrame'>\n",
            "RangeIndex: 4981 entries, 0 to 4980\n",
            "Data columns (total 11 columns):\n",
            " #   Column             Non-Null Count  Dtype  \n",
            "---  ------             --------------  -----  \n",
            " 0   gender             4981 non-null   int64  \n",
            " 1   age                4981 non-null   float64\n",
            " 2   hypertension       4981 non-null   int64  \n",
            " 3   heart_disease      4981 non-null   int64  \n",
            " 4   ever_married       4981 non-null   int64  \n",
            " 5   work_type          4981 non-null   int64  \n",
            " 6   Residence_type     4981 non-null   int64  \n",
            " 7   avg_glucose_level  4981 non-null   float64\n",
            " 8   bmi                4981 non-null   float64\n",
            " 9   smoking_status     4981 non-null   int64  \n",
            " 10  stroke             4981 non-null   int64  \n",
            "dtypes: float64(3), int64(8)\n",
            "memory usage: 428.2 KB\n",
            "None\n",
            "            gender          age  hypertension  heart_disease  ever_married  \\\n",
            "count  4981.000000  4981.000000   4981.000000    4981.000000   4981.000000   \n",
            "mean      0.416382    43.419859      0.096165       0.055210      0.658502   \n",
            "std       0.493008    22.662755      0.294848       0.228412      0.474260   \n",
            "min       0.000000     0.080000      0.000000       0.000000      0.000000   \n",
            "25%       0.000000    25.000000      0.000000       0.000000      0.000000   \n",
            "50%       0.000000    45.000000      0.000000       0.000000      1.000000   \n",
            "75%       1.000000    61.000000      0.000000       0.000000      1.000000   \n",
            "max       1.000000    82.000000      1.000000       1.000000      1.000000   \n",
            "\n",
            "         work_type  Residence_type  avg_glucose_level          bmi  \\\n",
            "count  4981.000000     4981.000000        4981.000000  4981.000000   \n",
            "mean      0.825336        0.508332         105.943562    28.498173   \n",
            "std       1.101664        0.499981          45.075373     6.790464   \n",
            "min       0.000000        0.000000          55.120000    14.000000   \n",
            "25%       0.000000        0.000000          77.230000    23.700000   \n",
            "50%       0.000000        1.000000          91.850000    28.100000   \n",
            "75%       2.000000        1.000000         113.860000    32.600000   \n",
            "max       3.000000        1.000000         271.740000    48.900000   \n",
            "\n",
            "       smoking_status       stroke  \n",
            "count     4981.000000  4981.000000  \n",
            "mean         1.184501     0.049789  \n",
            "std          1.031769     0.217531  \n",
            "min          0.000000     0.000000  \n",
            "25%          0.000000     0.000000  \n",
            "50%          1.000000     0.000000  \n",
            "75%          2.000000     0.000000  \n",
            "max          3.000000     1.000000  \n"
          ]
        }
      ],
      "source": [
        "# Display basic information about the DataFrame\n",
        "print(data.info())\n",
        "\n",
        "print(data.describe())"
      ]
    },
    {
      "cell_type": "code",
      "execution_count": null,
      "metadata": {
        "id": "JJ39EL-iscZP"
      },
      "outputs": [],
      "source": [
        "X = data.iloc[:,0:10]\n",
        "y = data.iloc[:,10]\n",
        "\n",
        "#split dataset 70:30\n",
        "xTrain, xTest, yTrain, yTest = train_test_split(X,y,test_size=0.30)\n",
        "xTrain = xTrain.to_numpy()\n",
        "xTest = xTest.to_numpy()\n",
        "yTrain = yTrain.to_numpy()\n",
        "yTest = yTest.to_numpy()"
      ]
    },
    {
      "cell_type": "markdown",
      "metadata": {
        "id": "EUw2hs50xq0j"
      },
      "source": [
        "**FuzzyKNN**"
      ]
    },
    {
      "cell_type": "code",
      "execution_count": null,
      "metadata": {
        "id": "QghSXzp1tSQD"
      },
      "outputs": [],
      "source": [
        "class FuzzyKNN(BaseEstimator, ClassifierMixin):\n",
        "    #utk deklrasi kebutuhan k\n",
        "    def __init__(self, k=3, plot=False):\n",
        "        self.k = k\n",
        "        self.plot = plot\n",
        "\n",
        "#utk train model\n",
        "    def fit(self, X, y=None):\n",
        "        self._check_params(X, y)\n",
        "        self.X = X\n",
        "        self.y = y\n",
        "\n",
        "        self.xdim = len(self.X[0])\n",
        "        self.n = len(y)\n",
        "\n",
        "        classes = list(set(y))\n",
        "        classes.sort()\n",
        "        self.classes = classes\n",
        "\n",
        "        self.df = pd.DataFrame(self.X)\n",
        "        self.df['y'] = self.y\n",
        "\n",
        "        self.memberships = self._compute_memberships()\n",
        "  #validasi hasil pred\n",
        "        self.df['membership'] = self.memberships\n",
        "\n",
        "        self.fitted_ = True\n",
        "        return self\n",
        "#untuk memprediksi (pred dgn knn)\n",
        "    def predict(self, X):\n",
        "        if not hasattr(self, 'fitted_') or not self.fitted_:\n",
        "            raise Exception('predict() called before fit()')\n",
        "        else:\n",
        "            m = 2\n",
        "            y_pred = []\n",
        "            epsilon = 1e-9  # Small constant to prevent division by zero\n",
        "\n",
        "            for x in X:\n",
        "              #model dipanggil\n",
        "                neighbors = self._find_k_nearest_neighbors(pd.DataFrame.copy(self.df), x)\n",
        "\n",
        "                votes = {}\n",
        "                for c in self.classes:\n",
        "                    den = 0\n",
        "                    for n in range(self.k):\n",
        "                        dist = np.linalg.norm(x - neighbors.iloc[n, 0:self.xdim]) + epsilon\n",
        "                        den += 1 / (dist ** (2 / (m-1)))\n",
        "\n",
        "                    neighbors_votes = []\n",
        "                    for n in range(self.k):\n",
        "                        dist = np.linalg.norm(x - neighbors.iloc[n, 0:self.xdim]) + epsilon\n",
        "                        num = (neighbors.iloc[n].membership[c]) / (dist ** (2 / (m-1)))\n",
        "\n",
        "                        vote = num / den\n",
        "                        neighbors_votes.append(vote)\n",
        "                    votes[c] = np.sum(neighbors_votes)\n",
        "\n",
        "                pred = max(votes.items(), key=operator.itemgetter(1))[0]\n",
        "                y_pred.append((pred, votes))\n",
        "\n",
        "            return y_pred\n",
        "#utk menghitung score accuracy\n",
        "    def score(self, X, y):\n",
        "        if not hasattr(self, 'fitted_') or not self.fitted_:\n",
        "            raise Exception('score() called before fit()')\n",
        "        else:\n",
        "            predictions = self.predict(X)\n",
        "            y_pred = [t[0] for t in predictions]\n",
        "\n",
        "            return accuracy_score(y_pred=y_pred, y_true=y)\n",
        "#model knn (perhitungan knn manual)\n",
        "    def _find_k_nearest_neighbors(self, df, x):\n",
        "        X = df.iloc[:, 0:self.xdim].values\n",
        "\n",
        "        df['distances'] = [np.linalg.norm(X[i] - x) for i in range(self.n)]\n",
        "\n",
        "        df.sort_values(by='distances', ascending=True, inplace=True)\n",
        "        neighbors = df.iloc[0:self.k]\n",
        "\n",
        "        return neighbors\n",
        "\n",
        "#menghitung tetangga terdekat, yg nilanya 1 brp 0 brp\n",
        "    def _get_counts(self, neighbors):\n",
        "        groups = neighbors.groupby('y')\n",
        "        counts = {group[1]['y'].iloc[0]: group[1].count()[0] for group in groups}\n",
        "\n",
        "        return counts\n",
        "#utk menghitung derajat keanggotaan hasil prediksi knn\n",
        "    def _compute_memberships(self):\n",
        "        memberships = []\n",
        "        for i in range(self.n):\n",
        "            x = self.X[i]\n",
        "            y = self.y[i]\n",
        "\n",
        "            neighbors = self._find_k_nearest_neighbors(pd.DataFrame.copy(self.df), x)\n",
        "            counts = self._get_counts(neighbors)\n",
        "\n",
        "            membership = dict()\n",
        "            for c in self.classes:\n",
        "                try:\n",
        "                    uci = 0.49 * (counts[c] / self.k)\n",
        "                    if c == y:\n",
        "                        uci += 0.51\n",
        "                    membership[c] = uci\n",
        "                except:\n",
        "                    membership[c] = 0\n",
        "\n",
        "            memberships.append(membership)\n",
        "        return memberships\n",
        "#cek k, apakah nilai k sudah tepat\n",
        "    def _check_params(self, X, y):\n",
        "        if type(self.k) != int:\n",
        "            raise Exception('\"k\" should have type int')\n",
        "        elif self.k >= len(y):\n",
        "            raise Exception('\"k\" should be less than no of feature sets')\n",
        "        elif self.k % 2 == 0:\n",
        "            raise Exception('\"k\" should be odd')\n",
        "\n",
        "        if type(self.plot) != bool:\n",
        "            raise Exception('\"plot\" should have type bool')"
      ]
    },
    {
      "cell_type": "code",
      "execution_count": null,
      "metadata": {
        "id": "nDMo8CL3tWob"
      },
      "outputs": [],
      "source": [
        "#Fuzzy KNN\n",
        "fkModel = FuzzyKNN()\n",
        "#training\n",
        "fkModel.fit(xTrain, yTrain)\n",
        "#memprediksi apakah test yg 30% hasilnya apa, apakah sdh sesuai\n",
        "y_predFK=fkModel.predict(xTest)\n",
        "\n",
        "#Hilangkan indeks pertama\n",
        "new_y_predFK = []\n",
        "for item in y_predFK :\n",
        "    new_y_predFK.append(item[1])\n",
        "y_predFK = new_y_predFK\n",
        "\n",
        "#ubah ke ndarray (utk rubah tipe data disamakan)\n",
        "new_y_predFK = []\n",
        "for item in y_predFK :\n",
        "    new_y_predFK.append([item[0],item[1]])\n",
        "fk_proba = np.array(new_y_predFK)"
      ]
    },
    {
      "cell_type": "code",
      "execution_count": null,
      "metadata": {
        "colab": {
          "base_uri": "https://localhost:8080/"
        },
        "id": "0DlVNAW4xyBC",
        "outputId": "b4090a97-6d69-4b6a-d265-84065ba01e05"
      },
      "outputs": [
        {
          "data": {
            "text/plain": [
              "0.9391304347826087"
            ]
          },
          "execution_count": 8,
          "metadata": {},
          "output_type": "execute_result"
        }
      ],
      "source": [
        "#akurasi Fuzzy KNN\n",
        "y_pred_fk = np.argmax(fk_proba, axis=1)\n",
        "accuracy_score(y_pred_fk,yTest)"
      ]
    }
  ],
  "metadata": {
    "colab": {
      "provenance": [],
      "include_colab_link": true
    },
    "kernelspec": {
      "display_name": "Python 3",
      "name": "python3"
    },
    "language_info": {
      "name": "python"
    }
  },
  "nbformat": 4,
  "nbformat_minor": 0
}